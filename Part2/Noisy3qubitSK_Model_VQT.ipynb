{
  "cells": [
    {
      "cell_type": "code",
      "execution_count": 2,
      "metadata": {
        "id": "0wCV4yIYE1Bo",
        "colab": {
          "base_uri": "https://localhost:8080/",
          "height": 1000
        },
        "outputId": "9c74316b-ec22-4bba-d795-f22d4fb571f4"
      },
      "outputs": [
        {
          "output_type": "stream",
          "name": "stdout",
          "text": [
            "Collecting qiskit[all]\n",
            "  Downloading qiskit-0.36.0.tar.gz (13 kB)\n",
            "Collecting qiskit-terra==0.20.0\n",
            "  Downloading qiskit_terra-0.20.0-cp37-cp37m-manylinux_2_17_x86_64.manylinux2014_x86_64.whl (6.5 MB)\n",
            "\u001b[K     |████████████████████████████████| 6.5 MB 4.8 MB/s \n",
            "\u001b[?25hCollecting qiskit-aer==0.10.4\n",
            "  Downloading qiskit_aer-0.10.4-cp37-cp37m-manylinux_2_12_x86_64.manylinux2010_x86_64.whl (18.0 MB)\n",
            "\u001b[K     |████████████████████████████████| 18.0 MB 1.5 MB/s \n",
            "\u001b[?25hCollecting qiskit-ibmq-provider==0.19.0\n",
            "  Downloading qiskit_ibmq_provider-0.19.0-py3-none-any.whl (240 kB)\n",
            "\u001b[K     |████████████████████████████████| 240 kB 47.1 MB/s \n",
            "\u001b[?25hCollecting qiskit-ignis==0.7.0\n",
            "  Downloading qiskit_ignis-0.7.0-py3-none-any.whl (200 kB)\n",
            "\u001b[K     |████████████████████████████████| 200 kB 41.7 MB/s \n",
            "\u001b[?25hCollecting qiskit-optimization>=0.3.0\n",
            "  Downloading qiskit_optimization-0.3.2-py3-none-any.whl (154 kB)\n",
            "\u001b[K     |████████████████████████████████| 154 kB 48.2 MB/s \n",
            "\u001b[?25hCollecting qiskit-finance>=0.3.0\n",
            "  Downloading qiskit_finance-0.3.1-py3-none-any.whl (50 kB)\n",
            "\u001b[K     |████████████████████████████████| 50 kB 6.2 MB/s \n",
            "\u001b[?25hCollecting qiskit-machine-learning>=0.3.0\n",
            "  Downloading qiskit_machine_learning-0.3.1-py3-none-any.whl (118 kB)\n",
            "\u001b[K     |████████████████████████████████| 118 kB 48.1 MB/s \n",
            "\u001b[?25hCollecting qiskit-nature>=0.3.0\n",
            "  Downloading qiskit_nature-0.3.2-py3-none-any.whl (3.5 MB)\n",
            "\u001b[K     |████████████████████████████████| 3.5 MB 15.1 MB/s \n",
            "\u001b[?25hCollecting qiskit-experiments>=0.2.0\n",
            "  Downloading qiskit_experiments-0.2.0-py3-none-any.whl (294 kB)\n",
            "\u001b[K     |████████████████████████████████| 294 kB 54.5 MB/s \n",
            "\u001b[?25hRequirement already satisfied: matplotlib>=2.1 in /usr/local/lib/python3.7/dist-packages (from qiskit[all]) (3.2.2)\n",
            "Requirement already satisfied: ipywidgets>=7.3.0 in /usr/local/lib/python3.7/dist-packages (from qiskit[all]) (7.7.0)\n",
            "Requirement already satisfied: pydot in /usr/local/lib/python3.7/dist-packages (from qiskit[all]) (1.3.0)\n",
            "Requirement already satisfied: pillow>=4.2.1 in /usr/local/lib/python3.7/dist-packages (from qiskit[all]) (7.1.2)\n",
            "Collecting pylatexenc>=1.4\n",
            "  Downloading pylatexenc-2.10.tar.gz (162 kB)\n",
            "\u001b[K     |████████████████████████████████| 162 kB 53.0 MB/s \n",
            "\u001b[?25hRequirement already satisfied: seaborn>=0.9.0 in /usr/local/lib/python3.7/dist-packages (from qiskit[all]) (0.11.2)\n",
            "Requirement already satisfied: pygments>=2.4 in /usr/local/lib/python3.7/dist-packages (from qiskit[all]) (2.6.1)\n",
            "Requirement already satisfied: scipy>=1.0 in /usr/local/lib/python3.7/dist-packages (from qiskit-aer==0.10.4->qiskit[all]) (1.4.1)\n",
            "Requirement already satisfied: numpy>=1.16.3 in /usr/local/lib/python3.7/dist-packages (from qiskit-aer==0.10.4->qiskit[all]) (1.21.5)\n",
            "Requirement already satisfied: requests>=2.19 in /usr/local/lib/python3.7/dist-packages (from qiskit-ibmq-provider==0.19.0->qiskit[all]) (2.23.0)\n",
            "Collecting requests-ntlm>=1.1.0\n",
            "  Downloading requests_ntlm-1.1.0-py2.py3-none-any.whl (5.7 kB)\n",
            "Collecting websockets>=10.0\n",
            "  Downloading websockets-10.2-cp37-cp37m-manylinux_2_5_x86_64.manylinux1_x86_64.manylinux_2_12_x86_64.manylinux2010_x86_64.whl (111 kB)\n",
            "\u001b[K     |████████████████████████████████| 111 kB 65.8 MB/s \n",
            "\u001b[?25hRequirement already satisfied: python-dateutil>=2.8.0 in /usr/local/lib/python3.7/dist-packages (from qiskit-ibmq-provider==0.19.0->qiskit[all]) (2.8.2)\n",
            "Requirement already satisfied: urllib3>=1.21.1 in /usr/local/lib/python3.7/dist-packages (from qiskit-ibmq-provider==0.19.0->qiskit[all]) (1.24.3)\n",
            "Collecting websocket-client>=1.0.1\n",
            "  Downloading websocket_client-1.3.2-py3-none-any.whl (54 kB)\n",
            "\u001b[K     |████████████████████████████████| 54 kB 2.5 MB/s \n",
            "\u001b[?25hRequirement already satisfied: setuptools>=40.1.0 in /usr/local/lib/python3.7/dist-packages (from qiskit-ignis==0.7.0->qiskit[all]) (57.4.0)\n",
            "Collecting retworkx>=0.8.0\n",
            "  Downloading retworkx-0.11.0-cp37-cp37m-manylinux_2_5_x86_64.manylinux1_x86_64.manylinux_2_12_x86_64.manylinux2010_x86_64.whl (1.6 MB)\n",
            "\u001b[K     |████████████████████████████████| 1.6 MB 53.5 MB/s \n",
            "\u001b[?25hCollecting stevedore>=3.0.0\n",
            "  Downloading stevedore-3.5.0-py3-none-any.whl (49 kB)\n",
            "\u001b[K     |████████████████████████████████| 49 kB 6.4 MB/s \n",
            "\u001b[?25hCollecting python-constraint>=1.4\n",
            "  Downloading python-constraint-1.4.0.tar.bz2 (18 kB)\n",
            "Collecting tweedledum<2.0,>=1.1\n",
            "  Downloading tweedledum-1.1.1-cp37-cp37m-manylinux_2_12_x86_64.manylinux2010_x86_64.whl (943 kB)\n",
            "\u001b[K     |████████████████████████████████| 943 kB 40.5 MB/s \n",
            "\u001b[?25hCollecting symengine>=0.9\n",
            "  Downloading symengine-0.9.2-cp37-cp37m-manylinux2010_x86_64.whl (37.5 MB)\n",
            "\u001b[K     |████████████████████████████████| 37.5 MB 45 kB/s \n",
            "\u001b[?25hCollecting ply>=3.10\n",
            "  Downloading ply-3.11-py2.py3-none-any.whl (49 kB)\n",
            "\u001b[K     |████████████████████████████████| 49 kB 6.1 MB/s \n",
            "\u001b[?25hCollecting scipy>=1.0\n",
            "  Downloading scipy-1.7.3-cp37-cp37m-manylinux_2_12_x86_64.manylinux2010_x86_64.whl (38.1 MB)\n",
            "\u001b[K     |████████████████████████████████| 38.1 MB 1.1 MB/s \n",
            "\u001b[?25hRequirement already satisfied: dill>=0.3 in /usr/local/lib/python3.7/dist-packages (from qiskit-terra==0.20.0->qiskit[all]) (0.3.4)\n",
            "Requirement already satisfied: sympy>=1.3 in /usr/local/lib/python3.7/dist-packages (from qiskit-terra==0.20.0->qiskit[all]) (1.7.1)\n",
            "Requirement already satisfied: psutil>=5 in /usr/local/lib/python3.7/dist-packages (from qiskit-terra==0.20.0->qiskit[all]) (5.4.8)\n",
            "Requirement already satisfied: ipython-genutils~=0.2.0 in /usr/local/lib/python3.7/dist-packages (from ipywidgets>=7.3.0->qiskit[all]) (0.2.0)\n",
            "Requirement already satisfied: ipykernel>=4.5.1 in /usr/local/lib/python3.7/dist-packages (from ipywidgets>=7.3.0->qiskit[all]) (4.10.1)\n",
            "Requirement already satisfied: ipython>=4.0.0 in /usr/local/lib/python3.7/dist-packages (from ipywidgets>=7.3.0->qiskit[all]) (5.5.0)\n",
            "Requirement already satisfied: nbformat>=4.2.0 in /usr/local/lib/python3.7/dist-packages (from ipywidgets>=7.3.0->qiskit[all]) (5.2.0)\n",
            "Requirement already satisfied: traitlets>=4.3.1 in /usr/local/lib/python3.7/dist-packages (from ipywidgets>=7.3.0->qiskit[all]) (5.1.1)\n",
            "Requirement already satisfied: jupyterlab-widgets>=1.0.0 in /usr/local/lib/python3.7/dist-packages (from ipywidgets>=7.3.0->qiskit[all]) (1.1.0)\n",
            "Requirement already satisfied: widgetsnbextension~=3.6.0 in /usr/local/lib/python3.7/dist-packages (from ipywidgets>=7.3.0->qiskit[all]) (3.6.0)\n",
            "Requirement already satisfied: jupyter-client in /usr/local/lib/python3.7/dist-packages (from ipykernel>=4.5.1->ipywidgets>=7.3.0->qiskit[all]) (5.3.5)\n",
            "Requirement already satisfied: tornado>=4.0 in /usr/local/lib/python3.7/dist-packages (from ipykernel>=4.5.1->ipywidgets>=7.3.0->qiskit[all]) (5.1.1)\n",
            "Requirement already satisfied: pexpect in /usr/local/lib/python3.7/dist-packages (from ipython>=4.0.0->ipywidgets>=7.3.0->qiskit[all]) (4.8.0)\n",
            "Requirement already satisfied: decorator in /usr/local/lib/python3.7/dist-packages (from ipython>=4.0.0->ipywidgets>=7.3.0->qiskit[all]) (4.4.2)\n",
            "Requirement already satisfied: pickleshare in /usr/local/lib/python3.7/dist-packages (from ipython>=4.0.0->ipywidgets>=7.3.0->qiskit[all]) (0.7.5)\n",
            "Requirement already satisfied: simplegeneric>0.8 in /usr/local/lib/python3.7/dist-packages (from ipython>=4.0.0->ipywidgets>=7.3.0->qiskit[all]) (0.8.1)\n",
            "Requirement already satisfied: prompt-toolkit<2.0.0,>=1.0.4 in /usr/local/lib/python3.7/dist-packages (from ipython>=4.0.0->ipywidgets>=7.3.0->qiskit[all]) (1.0.18)\n",
            "Requirement already satisfied: pyparsing!=2.0.4,!=2.1.2,!=2.1.6,>=2.0.1 in /usr/local/lib/python3.7/dist-packages (from matplotlib>=2.1->qiskit[all]) (3.0.7)\n",
            "Requirement already satisfied: kiwisolver>=1.0.1 in /usr/local/lib/python3.7/dist-packages (from matplotlib>=2.1->qiskit[all]) (1.4.0)\n",
            "Requirement already satisfied: cycler>=0.10 in /usr/local/lib/python3.7/dist-packages (from matplotlib>=2.1->qiskit[all]) (0.11.0)\n",
            "Requirement already satisfied: typing-extensions in /usr/local/lib/python3.7/dist-packages (from kiwisolver>=1.0.1->matplotlib>=2.1->qiskit[all]) (3.10.0.2)\n",
            "Requirement already satisfied: jupyter-core in /usr/local/lib/python3.7/dist-packages (from nbformat>=4.2.0->ipywidgets>=7.3.0->qiskit[all]) (4.9.2)\n",
            "Requirement already satisfied: jsonschema!=2.5.0,>=2.4 in /usr/local/lib/python3.7/dist-packages (from nbformat>=4.2.0->ipywidgets>=7.3.0->qiskit[all]) (4.3.3)\n",
            "Requirement already satisfied: importlib-resources>=1.4.0 in /usr/local/lib/python3.7/dist-packages (from jsonschema!=2.5.0,>=2.4->nbformat>=4.2.0->ipywidgets>=7.3.0->qiskit[all]) (5.4.0)\n",
            "Requirement already satisfied: pyrsistent!=0.17.0,!=0.17.1,!=0.17.2,>=0.14.0 in /usr/local/lib/python3.7/dist-packages (from jsonschema!=2.5.0,>=2.4->nbformat>=4.2.0->ipywidgets>=7.3.0->qiskit[all]) (0.18.1)\n",
            "Requirement already satisfied: attrs>=17.4.0 in /usr/local/lib/python3.7/dist-packages (from jsonschema!=2.5.0,>=2.4->nbformat>=4.2.0->ipywidgets>=7.3.0->qiskit[all]) (21.4.0)\n",
            "Requirement already satisfied: importlib-metadata in /usr/local/lib/python3.7/dist-packages (from jsonschema!=2.5.0,>=2.4->nbformat>=4.2.0->ipywidgets>=7.3.0->qiskit[all]) (4.11.3)\n",
            "Requirement already satisfied: zipp>=3.1.0 in /usr/local/lib/python3.7/dist-packages (from importlib-resources>=1.4.0->jsonschema!=2.5.0,>=2.4->nbformat>=4.2.0->ipywidgets>=7.3.0->qiskit[all]) (3.7.0)\n",
            "Requirement already satisfied: six>=1.9.0 in /usr/local/lib/python3.7/dist-packages (from prompt-toolkit<2.0.0,>=1.0.4->ipython>=4.0.0->ipywidgets>=7.3.0->qiskit[all]) (1.15.0)\n",
            "Requirement already satisfied: wcwidth in /usr/local/lib/python3.7/dist-packages (from prompt-toolkit<2.0.0,>=1.0.4->ipython>=4.0.0->ipywidgets>=7.3.0->qiskit[all]) (0.2.5)\n",
            "Collecting uncertainties\n",
            "  Downloading uncertainties-3.1.6-py2.py3-none-any.whl (98 kB)\n",
            "\u001b[K     |████████████████████████████████| 98 kB 8.1 MB/s \n",
            "\u001b[?25hCollecting matplotlib>=2.1\n",
            "  Downloading matplotlib-3.5.1-cp37-cp37m-manylinux_2_5_x86_64.manylinux1_x86_64.whl (11.2 MB)\n",
            "\u001b[K     |████████████████████████████████| 11.2 MB 37.4 MB/s \n",
            "\u001b[?25hCollecting fonttools>=4.22.0\n",
            "  Downloading fonttools-4.32.0-py3-none-any.whl (900 kB)\n",
            "\u001b[K     |████████████████████████████████| 900 kB 67.1 MB/s \n",
            "\u001b[?25hRequirement already satisfied: packaging>=20.0 in /usr/local/lib/python3.7/dist-packages (from matplotlib>=2.1->qiskit[all]) (21.3)\n",
            "Collecting yfinance>=0.1.62\n",
            "  Downloading yfinance-0.1.70-py2.py3-none-any.whl (26 kB)\n",
            "Requirement already satisfied: scikit-learn>=0.20.0 in /usr/local/lib/python3.7/dist-packages (from qiskit-finance>=0.3.0->qiskit[all]) (1.0.2)\n",
            "Collecting quandl\n",
            "  Downloading Quandl-3.7.0-py2.py3-none-any.whl (26 kB)\n",
            "Requirement already satisfied: fastdtw in /usr/local/lib/python3.7/dist-packages (from qiskit-finance>=0.3.0->qiskit[all]) (0.3.4)\n",
            "Requirement already satisfied: pandas<1.4.0 in /usr/local/lib/python3.7/dist-packages (from qiskit-finance>=0.3.0->qiskit[all]) (1.3.5)\n",
            "Requirement already satisfied: pytz>=2017.3 in /usr/local/lib/python3.7/dist-packages (from pandas<1.4.0->qiskit-finance>=0.3.0->qiskit[all]) (2018.9)\n",
            "Requirement already satisfied: h5py in /usr/local/lib/python3.7/dist-packages (from qiskit-nature>=0.3.0->qiskit[all]) (3.1.0)\n",
            "Collecting docplex>=2.21.207\n",
            "  Downloading docplex-2.23.222.tar.gz (610 kB)\n",
            "\u001b[K     |████████████████████████████████| 610 kB 39.2 MB/s \n",
            "\u001b[?25hRequirement already satisfied: networkx>=2.2 in /usr/local/lib/python3.7/dist-packages (from qiskit-optimization>=0.3.0->qiskit[all]) (2.6.3)\n",
            "Requirement already satisfied: chardet<4,>=3.0.2 in /usr/local/lib/python3.7/dist-packages (from requests>=2.19->qiskit-ibmq-provider==0.19.0->qiskit[all]) (3.0.4)\n",
            "Requirement already satisfied: certifi>=2017.4.17 in /usr/local/lib/python3.7/dist-packages (from requests>=2.19->qiskit-ibmq-provider==0.19.0->qiskit[all]) (2021.10.8)\n",
            "Requirement already satisfied: idna<3,>=2.5 in /usr/local/lib/python3.7/dist-packages (from requests>=2.19->qiskit-ibmq-provider==0.19.0->qiskit[all]) (2.10)\n",
            "Collecting ntlm-auth>=1.0.2\n",
            "  Downloading ntlm_auth-1.5.0-py2.py3-none-any.whl (29 kB)\n",
            "Collecting cryptography>=1.3\n",
            "  Downloading cryptography-36.0.2-cp36-abi3-manylinux_2_24_x86_64.whl (3.6 MB)\n",
            "\u001b[K     |████████████████████████████████| 3.6 MB 44.2 MB/s \n",
            "\u001b[?25hRequirement already satisfied: cffi>=1.12 in /usr/local/lib/python3.7/dist-packages (from cryptography>=1.3->requests-ntlm>=1.1.0->qiskit-ibmq-provider==0.19.0->qiskit[all]) (1.15.0)\n",
            "Requirement already satisfied: pycparser in /usr/local/lib/python3.7/dist-packages (from cffi>=1.12->cryptography>=1.3->requests-ntlm>=1.1.0->qiskit-ibmq-provider==0.19.0->qiskit[all]) (2.21)\n",
            "Requirement already satisfied: threadpoolctl>=2.0.0 in /usr/local/lib/python3.7/dist-packages (from scikit-learn>=0.20.0->qiskit-finance>=0.3.0->qiskit[all]) (3.1.0)\n",
            "Requirement already satisfied: joblib>=0.11 in /usr/local/lib/python3.7/dist-packages (from scikit-learn>=0.20.0->qiskit-finance>=0.3.0->qiskit[all]) (1.1.0)\n",
            "Collecting pbr!=2.1.0,>=2.0.0\n",
            "  Downloading pbr-5.8.1-py2.py3-none-any.whl (113 kB)\n",
            "\u001b[K     |████████████████████████████████| 113 kB 77.9 MB/s \n",
            "\u001b[?25hRequirement already satisfied: mpmath>=0.19 in /usr/local/lib/python3.7/dist-packages (from sympy>=1.3->qiskit-terra==0.20.0->qiskit[all]) (1.2.1)\n",
            "Requirement already satisfied: notebook>=4.4.1 in /usr/local/lib/python3.7/dist-packages (from widgetsnbextension~=3.6.0->ipywidgets>=7.3.0->qiskit[all]) (5.3.1)\n",
            "Requirement already satisfied: Send2Trash in /usr/local/lib/python3.7/dist-packages (from notebook>=4.4.1->widgetsnbextension~=3.6.0->ipywidgets>=7.3.0->qiskit[all]) (1.8.0)\n",
            "Requirement already satisfied: terminado>=0.8.1 in /usr/local/lib/python3.7/dist-packages (from notebook>=4.4.1->widgetsnbextension~=3.6.0->ipywidgets>=7.3.0->qiskit[all]) (0.13.3)\n",
            "Requirement already satisfied: nbconvert in /usr/local/lib/python3.7/dist-packages (from notebook>=4.4.1->widgetsnbextension~=3.6.0->ipywidgets>=7.3.0->qiskit[all]) (5.6.1)\n",
            "Requirement already satisfied: jinja2 in /usr/local/lib/python3.7/dist-packages (from notebook>=4.4.1->widgetsnbextension~=3.6.0->ipywidgets>=7.3.0->qiskit[all]) (2.11.3)\n",
            "Requirement already satisfied: pyzmq>=13 in /usr/local/lib/python3.7/dist-packages (from jupyter-client->ipykernel>=4.5.1->ipywidgets>=7.3.0->qiskit[all]) (22.3.0)\n",
            "Requirement already satisfied: ptyprocess in /usr/local/lib/python3.7/dist-packages (from terminado>=0.8.1->notebook>=4.4.1->widgetsnbextension~=3.6.0->ipywidgets>=7.3.0->qiskit[all]) (0.7.0)\n",
            "Requirement already satisfied: multitasking>=0.0.7 in /usr/local/lib/python3.7/dist-packages (from yfinance>=0.1.62->qiskit-finance>=0.3.0->qiskit[all]) (0.0.10)\n",
            "Collecting lxml>=4.5.1\n",
            "  Downloading lxml-4.8.0-cp37-cp37m-manylinux_2_17_x86_64.manylinux2014_x86_64.manylinux_2_24_x86_64.whl (6.4 MB)\n",
            "\u001b[K     |████████████████████████████████| 6.4 MB 51.5 MB/s \n",
            "\u001b[?25hCollecting requests>=2.19\n",
            "  Downloading requests-2.27.1-py2.py3-none-any.whl (63 kB)\n",
            "\u001b[K     |████████████████████████████████| 63 kB 1.8 MB/s \n",
            "\u001b[?25hRequirement already satisfied: charset-normalizer~=2.0.0 in /usr/local/lib/python3.7/dist-packages (from requests>=2.19->qiskit-ibmq-provider==0.19.0->qiskit[all]) (2.0.12)\n",
            "Requirement already satisfied: cached-property in /usr/local/lib/python3.7/dist-packages (from h5py->qiskit-nature>=0.3.0->qiskit[all]) (1.5.2)\n",
            "Requirement already satisfied: MarkupSafe>=0.23 in /usr/local/lib/python3.7/dist-packages (from jinja2->notebook>=4.4.1->widgetsnbextension~=3.6.0->ipywidgets>=7.3.0->qiskit[all]) (2.0.1)\n",
            "Requirement already satisfied: bleach in /usr/local/lib/python3.7/dist-packages (from nbconvert->notebook>=4.4.1->widgetsnbextension~=3.6.0->ipywidgets>=7.3.0->qiskit[all]) (4.1.0)\n",
            "Requirement already satisfied: pandocfilters>=1.4.1 in /usr/local/lib/python3.7/dist-packages (from nbconvert->notebook>=4.4.1->widgetsnbextension~=3.6.0->ipywidgets>=7.3.0->qiskit[all]) (1.5.0)\n",
            "Requirement already satisfied: entrypoints>=0.2.2 in /usr/local/lib/python3.7/dist-packages (from nbconvert->notebook>=4.4.1->widgetsnbextension~=3.6.0->ipywidgets>=7.3.0->qiskit[all]) (0.4)\n",
            "Requirement already satisfied: testpath in /usr/local/lib/python3.7/dist-packages (from nbconvert->notebook>=4.4.1->widgetsnbextension~=3.6.0->ipywidgets>=7.3.0->qiskit[all]) (0.6.0)\n",
            "Requirement already satisfied: mistune<2,>=0.8.1 in /usr/local/lib/python3.7/dist-packages (from nbconvert->notebook>=4.4.1->widgetsnbextension~=3.6.0->ipywidgets>=7.3.0->qiskit[all]) (0.8.4)\n",
            "Requirement already satisfied: defusedxml in /usr/local/lib/python3.7/dist-packages (from nbconvert->notebook>=4.4.1->widgetsnbextension~=3.6.0->ipywidgets>=7.3.0->qiskit[all]) (0.7.1)\n",
            "Requirement already satisfied: webencodings in /usr/local/lib/python3.7/dist-packages (from bleach->nbconvert->notebook>=4.4.1->widgetsnbextension~=3.6.0->ipywidgets>=7.3.0->qiskit[all]) (0.5.1)\n",
            "Collecting inflection>=0.3.1\n",
            "  Downloading inflection-0.5.1-py2.py3-none-any.whl (9.5 kB)\n",
            "Requirement already satisfied: more-itertools in /usr/local/lib/python3.7/dist-packages (from quandl->qiskit-finance>=0.3.0->qiskit[all]) (8.12.0)\n",
            "Requirement already satisfied: future in /usr/local/lib/python3.7/dist-packages (from uncertainties->qiskit-experiments>=0.2.0->qiskit[all]) (0.16.0)\n",
            "Building wheels for collected packages: qiskit, pylatexenc, python-constraint, docplex\n",
            "  Building wheel for qiskit (setup.py) ... \u001b[?25l\u001b[?25hdone\n",
            "  Created wheel for qiskit: filename=qiskit-0.36.0-py3-none-any.whl size=11861 sha256=f3561635ba00111e6e71f15d1ab6dfdb1a4ecb2490ca1938b0d9b7d12a514af5\n",
            "  Stored in directory: /root/.cache/pip/wheels/c3/25/bc/bb06f0f4587fa7253f761a778580d546f13e031b90fc929bb3\n",
            "  Building wheel for pylatexenc (setup.py) ... \u001b[?25l\u001b[?25hdone\n",
            "  Created wheel for pylatexenc: filename=pylatexenc-2.10-py3-none-any.whl size=136835 sha256=316d442fbeedec6b0e4a9f2e31ed78295546b3f1a83b9d65e073293809ea0c1e\n",
            "  Stored in directory: /root/.cache/pip/wheels/f1/8a/f5/33ee79d4473eb201b519fa40f989b842e373237395a3421f52\n",
            "  Building wheel for python-constraint (setup.py) ... \u001b[?25l\u001b[?25hdone\n",
            "  Created wheel for python-constraint: filename=python_constraint-1.4.0-py2.py3-none-any.whl size=24081 sha256=073203a5c7c97dd18eb0e31481ce9a96378f412a46fffc417aa129112a6a5f6f\n",
            "  Stored in directory: /root/.cache/pip/wheels/07/27/db/1222c80eb1e431f3d2199c12569cb1cac60f562a451fe30479\n",
            "  Building wheel for docplex (setup.py) ... \u001b[?25l\u001b[?25hdone\n",
            "  Created wheel for docplex: filename=docplex-2.23.222-py3-none-any.whl size=662847 sha256=4c03ac3cf28b6a1c92b734880a37897ed453a1764f1c744bcff6a073fb6ddda3\n",
            "  Stored in directory: /root/.cache/pip/wheels/a7/c9/fb/cee5a89f304e77a39c466e625ac2830434b76eb8384999d116\n",
            "Successfully built qiskit pylatexenc python-constraint docplex\n",
            "Installing collected packages: pbr, tweedledum, symengine, stevedore, scipy, retworkx, requests, python-constraint, ply, ntlm-auth, cryptography, websockets, websocket-client, requests-ntlm, qiskit-terra, lxml, inflection, fonttools, docplex, yfinance, uncertainties, quandl, qiskit-optimization, qiskit-ignis, qiskit-ibmq-provider, qiskit-aer, matplotlib, qiskit-nature, qiskit-machine-learning, qiskit-finance, qiskit-experiments, qiskit, pylatexenc\n",
            "  Attempting uninstall: scipy\n",
            "    Found existing installation: scipy 1.4.1\n",
            "    Uninstalling scipy-1.4.1:\n",
            "      Successfully uninstalled scipy-1.4.1\n",
            "  Attempting uninstall: requests\n",
            "    Found existing installation: requests 2.23.0\n",
            "    Uninstalling requests-2.23.0:\n",
            "      Successfully uninstalled requests-2.23.0\n",
            "  Attempting uninstall: lxml\n",
            "    Found existing installation: lxml 4.2.6\n",
            "    Uninstalling lxml-4.2.6:\n",
            "      Successfully uninstalled lxml-4.2.6\n",
            "  Attempting uninstall: matplotlib\n",
            "    Found existing installation: matplotlib 3.2.2\n",
            "    Uninstalling matplotlib-3.2.2:\n",
            "      Successfully uninstalled matplotlib-3.2.2\n",
            "\u001b[31mERROR: pip's dependency resolver does not currently take into account all the packages that are installed. This behaviour is the source of the following dependency conflicts.\n",
            "google-colab 1.0.0 requires requests~=2.23.0, but you have requests 2.27.1 which is incompatible.\n",
            "datascience 0.10.6 requires folium==0.2.1, but you have folium 0.8.3 which is incompatible.\n",
            "albumentations 0.1.12 requires imgaug<0.2.7,>=0.2.5, but you have imgaug 0.2.9 which is incompatible.\u001b[0m\n",
            "Successfully installed cryptography-36.0.2 docplex-2.23.222 fonttools-4.32.0 inflection-0.5.1 lxml-4.8.0 matplotlib-3.5.1 ntlm-auth-1.5.0 pbr-5.8.1 ply-3.11 pylatexenc-2.10 python-constraint-1.4.0 qiskit-0.36.0 qiskit-aer-0.10.4 qiskit-experiments-0.2.0 qiskit-finance-0.3.1 qiskit-ibmq-provider-0.19.0 qiskit-ignis-0.7.0 qiskit-machine-learning-0.3.1 qiskit-nature-0.3.2 qiskit-optimization-0.3.2 qiskit-terra-0.20.0 quandl-3.7.0 requests-2.27.1 requests-ntlm-1.1.0 retworkx-0.11.0 scipy-1.7.3 stevedore-3.5.0 symengine-0.9.2 tweedledum-1.1.1 uncertainties-3.1.6 websocket-client-1.3.2 websockets-10.2 yfinance-0.1.70\n"
          ]
        },
        {
          "output_type": "display_data",
          "data": {
            "application/vnd.colab-display-data+json": {
              "pip_warning": {
                "packages": [
                  "matplotlib",
                  "mpl_toolkits"
                ]
              }
            }
          },
          "metadata": {}
        },
        {
          "output_type": "stream",
          "name": "stdout",
          "text": [
            "Requirement already satisfied: qiskit-optimization in /usr/local/lib/python3.7/dist-packages (0.3.2)\n",
            "Requirement already satisfied: setuptools>=40.1.0 in /usr/local/lib/python3.7/dist-packages (from qiskit-optimization) (57.4.0)\n",
            "Requirement already satisfied: numpy>=1.17 in /usr/local/lib/python3.7/dist-packages (from qiskit-optimization) (1.21.5)\n",
            "Requirement already satisfied: scipy>=1.4 in /usr/local/lib/python3.7/dist-packages (from qiskit-optimization) (1.7.3)\n",
            "Requirement already satisfied: qiskit-terra>=0.19.1 in /usr/local/lib/python3.7/dist-packages (from qiskit-optimization) (0.20.0)\n",
            "Requirement already satisfied: networkx>=2.2 in /usr/local/lib/python3.7/dist-packages (from qiskit-optimization) (2.6.3)\n",
            "Requirement already satisfied: docplex>=2.21.207 in /usr/local/lib/python3.7/dist-packages (from qiskit-optimization) (2.23.222)\n",
            "Requirement already satisfied: six in /usr/local/lib/python3.7/dist-packages (from docplex>=2.21.207->qiskit-optimization) (1.15.0)\n",
            "Requirement already satisfied: dill>=0.3 in /usr/local/lib/python3.7/dist-packages (from qiskit-terra>=0.19.1->qiskit-optimization) (0.3.4)\n",
            "Requirement already satisfied: tweedledum<2.0,>=1.1 in /usr/local/lib/python3.7/dist-packages (from qiskit-terra>=0.19.1->qiskit-optimization) (1.1.1)\n",
            "Requirement already satisfied: symengine>=0.9 in /usr/local/lib/python3.7/dist-packages (from qiskit-terra>=0.19.1->qiskit-optimization) (0.9.2)\n",
            "Requirement already satisfied: stevedore>=3.0.0 in /usr/local/lib/python3.7/dist-packages (from qiskit-terra>=0.19.1->qiskit-optimization) (3.5.0)\n",
            "Requirement already satisfied: python-constraint>=1.4 in /usr/local/lib/python3.7/dist-packages (from qiskit-terra>=0.19.1->qiskit-optimization) (1.4.0)\n",
            "Requirement already satisfied: retworkx>=0.11.0 in /usr/local/lib/python3.7/dist-packages (from qiskit-terra>=0.19.1->qiskit-optimization) (0.11.0)\n",
            "Requirement already satisfied: psutil>=5 in /usr/local/lib/python3.7/dist-packages (from qiskit-terra>=0.19.1->qiskit-optimization) (5.4.8)\n",
            "Requirement already satisfied: ply>=3.10 in /usr/local/lib/python3.7/dist-packages (from qiskit-terra>=0.19.1->qiskit-optimization) (3.11)\n",
            "Requirement already satisfied: sympy>=1.3 in /usr/local/lib/python3.7/dist-packages (from qiskit-terra>=0.19.1->qiskit-optimization) (1.7.1)\n",
            "Requirement already satisfied: python-dateutil>=2.8.0 in /usr/local/lib/python3.7/dist-packages (from qiskit-terra>=0.19.1->qiskit-optimization) (2.8.2)\n",
            "Requirement already satisfied: pbr!=2.1.0,>=2.0.0 in /usr/local/lib/python3.7/dist-packages (from stevedore>=3.0.0->qiskit-terra>=0.19.1->qiskit-optimization) (5.8.1)\n",
            "Requirement already satisfied: importlib-metadata>=1.7.0 in /usr/local/lib/python3.7/dist-packages (from stevedore>=3.0.0->qiskit-terra>=0.19.1->qiskit-optimization) (4.11.3)\n",
            "Requirement already satisfied: typing-extensions>=3.6.4 in /usr/local/lib/python3.7/dist-packages (from importlib-metadata>=1.7.0->stevedore>=3.0.0->qiskit-terra>=0.19.1->qiskit-optimization) (3.10.0.2)\n",
            "Requirement already satisfied: zipp>=0.5 in /usr/local/lib/python3.7/dist-packages (from importlib-metadata>=1.7.0->stevedore>=3.0.0->qiskit-terra>=0.19.1->qiskit-optimization) (3.7.0)\n",
            "Requirement already satisfied: mpmath>=0.19 in /usr/local/lib/python3.7/dist-packages (from sympy>=1.3->qiskit-terra>=0.19.1->qiskit-optimization) (1.2.1)\n"
          ]
        }
      ],
      "source": [
        "!pip install 'qiskit[all]'\n",
        "!pip install qiskit-optimization"
      ]
    },
    {
      "cell_type": "code",
      "execution_count": 3,
      "metadata": {
        "colab": {
          "base_uri": "https://localhost:8080/",
          "height": 636
        },
        "id": "lptkC_9qIAh0",
        "outputId": "dbb449d7-96e9-43f5-8c1c-0638a6fabb47"
      },
      "outputs": [
        {
          "output_type": "stream",
          "name": "stdout",
          "text": [
            "Found existing installation: matplotlib 3.5.1\n",
            "Uninstalling matplotlib-3.5.1:\n",
            "  Would remove:\n",
            "    /usr/local/lib/python3.7/dist-packages/matplotlib-3.5.1-py3.7-nspkg.pth\n",
            "    /usr/local/lib/python3.7/dist-packages/matplotlib-3.5.1.dist-info/*\n",
            "    /usr/local/lib/python3.7/dist-packages/matplotlib/*\n",
            "    /usr/local/lib/python3.7/dist-packages/mpl_toolkits/axes_grid/*\n",
            "    /usr/local/lib/python3.7/dist-packages/mpl_toolkits/axes_grid1/*\n",
            "    /usr/local/lib/python3.7/dist-packages/mpl_toolkits/axisartist/*\n",
            "    /usr/local/lib/python3.7/dist-packages/mpl_toolkits/mplot3d/*\n",
            "    /usr/local/lib/python3.7/dist-packages/mpl_toolkits/tests/*\n",
            "    /usr/local/lib/python3.7/dist-packages/pylab.py\n",
            "Proceed (y/n)? y\n",
            "  Successfully uninstalled matplotlib-3.5.1\n",
            "Collecting matplotlib==3.1.3\n",
            "  Downloading matplotlib-3.1.3-cp37-cp37m-manylinux1_x86_64.whl (13.1 MB)\n",
            "\u001b[K     |████████████████████████████████| 13.1 MB 5.2 MB/s \n",
            "\u001b[?25hRequirement already satisfied: numpy>=1.11 in /usr/local/lib/python3.7/dist-packages (from matplotlib==3.1.3) (1.21.5)\n",
            "Requirement already satisfied: pyparsing!=2.0.4,!=2.1.2,!=2.1.6,>=2.0.1 in /usr/local/lib/python3.7/dist-packages (from matplotlib==3.1.3) (3.0.7)\n",
            "Requirement already satisfied: cycler>=0.10 in /usr/local/lib/python3.7/dist-packages (from matplotlib==3.1.3) (0.11.0)\n",
            "Requirement already satisfied: kiwisolver>=1.0.1 in /usr/local/lib/python3.7/dist-packages (from matplotlib==3.1.3) (1.4.0)\n",
            "Requirement already satisfied: python-dateutil>=2.1 in /usr/local/lib/python3.7/dist-packages (from matplotlib==3.1.3) (2.8.2)\n",
            "Requirement already satisfied: typing-extensions in /usr/local/lib/python3.7/dist-packages (from kiwisolver>=1.0.1->matplotlib==3.1.3) (3.10.0.2)\n",
            "Requirement already satisfied: six>=1.5 in /usr/local/lib/python3.7/dist-packages (from python-dateutil>=2.1->matplotlib==3.1.3) (1.15.0)\n",
            "Installing collected packages: matplotlib\n",
            "\u001b[31mERROR: pip's dependency resolver does not currently take into account all the packages that are installed. This behaviour is the source of the following dependency conflicts.\n",
            "qiskit-experiments 0.2.0 requires matplotlib>=3.4, but you have matplotlib 3.1.3 which is incompatible.\n",
            "albumentations 0.1.12 requires imgaug<0.2.7,>=0.2.5, but you have imgaug 0.2.9 which is incompatible.\u001b[0m\n",
            "Successfully installed matplotlib-3.1.3\n"
          ]
        },
        {
          "output_type": "display_data",
          "data": {
            "application/vnd.colab-display-data+json": {
              "pip_warning": {
                "packages": [
                  "matplotlib",
                  "mpl_toolkits"
                ]
              }
            }
          },
          "metadata": {}
        }
      ],
      "source": [
        "!pip uninstall matplotlib\n",
        "!pip install matplotlib==3.1.3"
      ]
    },
    {
      "cell_type": "code",
      "execution_count": 4,
      "metadata": {
        "id": "rHE8nX9dFdfK"
      },
      "outputs": [],
      "source": [
        "from qiskit_optimization.applications import SKModel\n",
        "import networkx as nx\n",
        "import matplotlib.pyplot as plt\n",
        "import scipy\n",
        "import numpy as np\n",
        "import math\n",
        "import random\n",
        "from qiskit import QuantumCircuit, QuantumRegister, ClassicalRegister\n",
        "from qiskit import Aer, execute\n",
        "from scipy.optimize import minimize\n",
        "import tensorflow as tf"
      ]
    },
    {
      "cell_type": "code",
      "execution_count": 5,
      "metadata": {
        "id": "NeIB5yf6GsY5"
      },
      "outputs": [],
      "source": [
        "'''Initializing the SK Model'''\n",
        "\n",
        "SK_Model = SKModel(num_sites=3, rng_or_seed=10)"
      ]
    },
    {
      "cell_type": "code",
      "execution_count": 6,
      "metadata": {
        "colab": {
          "base_uri": "https://localhost:8080/",
          "height": 303
        },
        "id": "jtBBfpPHHUQ8",
        "outputId": "185a983d-cc28-4719-ac85-a85ecc39268e"
      },
      "outputs": [
        {
          "output_type": "display_data",
          "data": {
            "text/plain": [
              "<Figure size 432x360 with 1 Axes>"
            ],
            "image/png": "[encoded data removed]"
          },
          "metadata": {}
        }
      ],
      "source": [
        "SK_Model_Graph = SK_Model.graph\n",
        "fig, ax = plt.subplots(figsize=(6,5))\n",
        "pos = nx.circular_layout(SK_Model_Graph)\n",
        "nx.draw_networkx(SK_Model_Graph, pos=pos, with_labels=False)\n",
        "# fig.tight_layout()\n",
        "#ax.axis('off')"
      ]
    },
    {
      "cell_type": "code",
      "execution_count": 7,
      "metadata": {
        "id": "32pNeANaT9hN"
      },
      "outputs": [],
      "source": [
        "SK_Model_qp = SK_Model.to_quadratic_program()"
      ]
    },
    {
      "cell_type": "code",
      "execution_count": 8,
      "metadata": {
        "colab": {
          "base_uri": "https://localhost:8080/"
        },
        "id": "bLBlWIHgUHBU",
        "outputId": "8b3a194c-0271-4082-ea73-2977419e42ce"
      },
      "outputs": [
        {
          "output_type": "stream",
          "name": "stdout",
          "text": [
            "\\ This file has been generated by DOcplex\n",
            "\\ ENCODING=ISO-8859-1\n",
            "\\Problem name: SK-model\n",
            "\n",
            "Minimize\n",
            " obj: 2.309401076759 x0 + [ - 4.618802153517 x0*x1 - 4.618802153517 x0*x2\n",
            "      + 4.618802153517 x1*x2 ]/2 -0.577350269190\n",
            "Subject To\n",
            "\n",
            "Bounds\n",
            " 0 <= x0 <= 1\n",
            " 0 <= x1 <= 1\n",
            " 0 <= x2 <= 1\n",
            "\n",
            "Binaries\n",
            " x0 x1 x2\n",
            "End\n",
            "\n"
          ]
        }
      ],
      "source": [
        "print(SK_Model_qp)"
      ]
    },
    {
      "cell_type": "code",
      "execution_count": 9,
      "metadata": {
        "id": "-R0JpC8kVL5P"
      },
      "outputs": [],
      "source": [
        "SK_Model_Ising = SK_Model_qp.to_ising()\n",
        "SK_Model_Hamiltonian = SK_Model_Ising[0].to_matrix()"
      ]
    },
    {
      "cell_type": "code",
      "execution_count": 10,
      "metadata": {
        "id": "jnd9GhgwM2AQ"
      },
      "outputs": [],
      "source": [
        "#Creates the grid visualization of the density matrices\n",
        "\n",
        "def create_density_plot(data):\n",
        "\n",
        "    array = np.array(data)\n",
        "    plt.matshow(array)\n",
        "    plt.colorbar()\n",
        "    plt.show()"
      ]
    },
    {
      "cell_type": "code",
      "execution_count": 11,
      "metadata": {
        "id": "4Y5cuLN-Vq9j"
      },
      "outputs": [],
      "source": [
        "# Initializes values\n",
        "\n",
        "beta = 1 #Note that B = 1/T\n",
        "qubit = 3\n",
        "\n",
        "# Creates the target density matrix\n",
        "\n",
        "def create_target(qubit, beta, hamiltonian):\n",
        "\n",
        "    h = hamiltonian\n",
        "    y = -1*float(beta)*h\n",
        "    new_matrix = scipy.linalg.expm(np.array(y))\n",
        "    norm = np.trace(new_matrix)\n",
        "    final_target = (1/norm)*new_matrix\n",
        "\n",
        "    # Calculates the entropy, the expectation value, and the final cost\n",
        "\n",
        "    entropy = -1*np.trace(np.matmul(final_target, scipy.linalg.logm(final_target)))\n",
        "    ev = np.trace(np.matmul(final_target, h))\n",
        "    real_cost = beta*np.trace(np.matmul(final_target, h)) - entropy\n",
        "\n",
        "    # Plots the final density matrix\n",
        "\n",
        "    create_density_plot(final_target.real)\n",
        "\n",
        "    # Prints the calculated values\n",
        "\n",
        "    print(\"Expectation Value: \"+str(ev))\n",
        "    print(\"Entropy: \"+str(entropy))\n",
        "    print(\"Final Cost: \"+str(real_cost))"
      ]
    },
    {
      "cell_type": "code",
      "execution_count": 12,
      "metadata": {
        "colab": {
          "base_uri": "https://localhost:8080/",
          "height": 316
        },
        "id": "zAUd1fheX4ct",
        "outputId": "2fec24f2-33df-44ff-ba78-de30299e505e"
      },
      "outputs": [
        {
          "output_type": "display_data",
          "data": {
            "text/plain": [
              "<Figure size 288x288 with 2 Axes>"
            ],
            "image/png": "[encoded data removed]"
          },
          "metadata": {
            "needs_background": "light"
          }
        },
        {
          "output_type": "stream",
          "name": "stdout",
          "text": [
            "Expectation Value: (-0.5033432861349194+0j)\n",
            "Entropy: (1.898337128267965-0j)\n",
            "Final Cost: (-2.4016804144028843+0j)\n"
          ]
        }
      ],
      "source": [
        "create_target(qubit, beta, SK_Model_Hamiltonian)"
      ]
    },
    {
      "cell_type": "code",
      "execution_count": 13,
      "metadata": {
        "id": "lkGH7VIehBXE"
      },
      "outputs": [],
      "source": [
        "#Creates the RYY gate using the RXX gate and single-qubit rotations\n",
        "\n",
        "def ryy_gate(circ, qubit1, qubit2, theta):\n",
        "\n",
        "    circ.s(qubit1)\n",
        "    circ.s(qubit2)\n",
        "    circ.rxx(theta, qubit1, qubit2)\n",
        "    circ.sdg(qubit1)\n",
        "    circ.sdg(qubit2)"
      ]
    },
    {
      "cell_type": "code",
      "execution_count": 14,
      "metadata": {
        "id": "kWWnNLZBnvfT"
      },
      "outputs": [],
      "source": [
        "# Creates the single rotational ansatz\n",
        "\n",
        "def single_rotation(circ, phi_params, qubit):\n",
        "\n",
        "    circ.rz(phi_params[0], qubit)\n",
        "    circ.ry(phi_params[1], qubit)\n",
        "    circ.rx(phi_params[2], qubit)"
      ]
    },
    {
      "cell_type": "code",
      "execution_count": 15,
      "metadata": {
        "id": "EbcOIkd0hDsk"
      },
      "outputs": [],
      "source": [
        "#Creates the double rotational unitary\n",
        "\n",
        "def double_rotation(circ, phi_params, qubit1, qubit2):\n",
        "\n",
        "    circ.rzz(phi_params[0], qubit1, qubit2)\n",
        "    circ.rxx(phi_params[1], qubit1, qubit2)\n",
        "    ryy_gate(circ, qubit1, qubit2, phi_params[2])"
      ]
    },
    {
      "cell_type": "code",
      "execution_count": 16,
      "metadata": {
        "colab": {
          "base_uri": "https://localhost:8080/"
        },
        "id": "E6FRlAeRjBEU",
        "outputId": "14ced784-683b-4037-c856-f0ed82ef7df6"
      },
      "outputs": [
        {
          "output_type": "stream",
          "name": "stdout",
          "text": [
            "NoiseModel:\n",
            "  Basis gates: ['cx', 'id', 'rz', 'sx']\n",
            "  Instructions with noise: ['add_u_gate']\n",
            "  All-qubits errors: ['add_u_gate']\n"
          ]
        }
      ],
      "source": [
        "from qiskit.providers.aer.noise import NoiseModel\n",
        "from qiskit.providers.aer.noise import QuantumError, ReadoutError\n",
        "\n",
        "from qiskit.providers.aer.noise import depolarizing_error\n",
        "\n",
        "# Create an empty noise model\n",
        "noise_model = NoiseModel()\n",
        "\n",
        "# Add depolarizing error to all single qubit unitary gate\n",
        "error = depolarizing_error(0.1, 1)\n",
        "noise_model.add_all_qubit_quantum_error(error, ['add_u_gate'])\n",
        "\n",
        "# Print noise model info\n",
        "print(noise_model)"
      ]
    },
    {
      "cell_type": "code",
      "execution_count": 17,
      "metadata": {
        "id": "uIUZRs6KhGss"
      },
      "outputs": [],
      "source": [
        "double_pair = [[[0, 1], [1, 2]]]\n",
        "depth = 1\n",
        "#Creates the ansatz unitary\n",
        "\n",
        "def add_u_gate(circ, double_phi, single_phi, qubit):\n",
        "    for j in range(0, depth):\n",
        "\n",
        "        for i in range(0, qubit-1):\n",
        "            double_rotation(circ, double_phi[j][i], double_pair[j][i][0], double_pair[j][i][1])\n",
        "\n",
        "        for i in range(0, qubit):\n",
        "            single_rotation(circ, single_phi[j][i], i)\n",
        "\n",
        "        for i in range(0, qubit-1):\n",
        "            double_rotation(circ, double_phi[j][i], double_pair[j][i][0], double_pair[j][i][1])\n",
        "        \n",
        "\n"
      ]
    },
    {
      "cell_type": "code",
      "execution_count": 18,
      "metadata": {
        "id": "10TivwvmmdAr"
      },
      "outputs": [],
      "source": [
        "# Creates the probability distribution according to the theta parameters\n",
        "\n",
        "def create_dist(theta_param):\n",
        "\n",
        "    prob = []\n",
        "    for i in range(0, len(theta_param)):\n",
        "        prob.append([math.exp(-1*theta_param[i]), 1-math.exp(-1*theta_param[i])])\n",
        "\n",
        "    return prob"
      ]
    },
    {
      "cell_type": "code",
      "execution_count": 19,
      "metadata": {
        "id": "yc-VH-hmnOaj"
      },
      "outputs": [],
      "source": [
        "#Creates the initialization unitary for each of the computational basis states\n",
        "\n",
        "def create_v_gate(circ, prep_state):\n",
        "\n",
        "    for i in range(0, len(prep_state)):\n",
        "        if (prep_state[i] == 1):\n",
        "            circ.x(i)"
      ]
    },
    {
      "cell_type": "code",
      "execution_count": 20,
      "metadata": {
        "colab": {
          "base_uri": "https://localhost:8080/",
          "height": 698
        },
        "id": "2ZXlQj1qhs_s",
        "outputId": "d8d45a9c-eed1-437c-97f9-be7a9d6f2973"
      },
      "outputs": [
        {
          "output_type": "stream",
          "name": "stdout",
          "text": [
            "Cost at Step 0: -1.4294116488123496\n",
            "Cost at Step 50: -2.1525630653075942\n",
            "Cost at Step 100: -2.274545298831421\n",
            "Cost at Step 150: -2.286770477334675\n",
            "Cost at Step 200: -2.287673512951142\n",
            "Cost at Step 250: -2.2877695994393115\n",
            "Cost at Step 300: -2.2877821750351557\n",
            "Cost at Step 350: -2.287785029517753\n",
            "Cost at Step 400: -2.28778524492515\n",
            "Cost at Step 450: -2.2877852775084175\n",
            "     fun: -2.2877852761295556\n",
            "   maxcv: 0.0\n",
            " message: 'Optimization terminated successfully.'\n",
            "    nfev: 452\n",
            "  status: 1\n",
            " success: True\n",
            "       x: array([ 1.57080752e+00,  3.14162108e+00,  1.57080700e+00,  1.57082410e+00,\n",
            "       -5.04784903e-05,  1.57082928e+00,  2.79627096e+00, -1.57070475e+00,\n",
            "        1.22547765e+00, -1.63043472e+00,  1.57094414e+00,  1.63041129e+00,\n",
            "       -1.55460121e+00, -1.57054803e+00,  1.62134211e-02,  1.13278280e+00,\n",
            "        6.93140452e-01,  3.88843482e-01])\n"
          ]
        },
        {
          "output_type": "display_data",
          "data": {
            "text/plain": [
              "<Figure size 288x288 with 2 Axes>"
            ],
            "image/png": "[encoded data removed]"
          },
          "metadata": {
            "needs_background": "light"
          }
        },
        {
          "output_type": "stream",
          "name": "stdout",
          "text": [
            "Final Entropy: 1.950102534136878\n",
            "Final Expectation Value: -0.33768274199267745\n",
            "Final Cost: -2.2877852761295556\n"
          ]
        }
      ],
      "source": [
        "counting_num = 0\n",
        "\n",
        "def cost_function(param):\n",
        "    \n",
        "    global counting_num\n",
        "\n",
        "    ham_matrix = SK_Model_Hamiltonian\n",
        "\n",
        "    double_phi = [[param[0:3], param[3:6]]]\n",
        "    single_phi = [[param[6:9], param[9:12], param[12:15]]]\n",
        "    theta = param[15:18]\n",
        "\n",
        "    opt_prob_dist = create_dist(theta)\n",
        "\n",
        "    p = []\n",
        "    for i in range(0, 2):\n",
        "        for j in range(0, 2):\n",
        "            for v in range(0, 2):\n",
        "                p.append(opt_prob_dist[0][i]*opt_prob_dist[1][j]*opt_prob_dist[2][v])\n",
        "\n",
        "    state = np.zeros((2**qubit, 2**qubit))\n",
        "\n",
        "    for l in range(0, 2**qubit):\n",
        "\n",
        "        circ = QuantumCircuit(qubit)\n",
        "\n",
        "        create_v_gate(circ, [int(i) for i in list(bin(l)[2:].zfill(qubit))])\n",
        "        add_u_gate(circ, double_phi, single_phi, qubit)\n",
        "        \n",
        "        backend = Aer.get_backend('statevector_simulator')\n",
        "        job = execute(circ, backend)\n",
        "        result = job.result()\n",
        "        outputstate = result.get_statevector(circ)\n",
        "\n",
        "        state = np.add(state, p[l]*np.outer(outputstate, np.conj(outputstate)))\n",
        "\n",
        "    entropy = -1*np.trace(np.matmul(state, scipy.linalg.logm(state)))\n",
        "\n",
        "    cost = beta*np.trace(np.matmul(ham_matrix, state)) - entropy\n",
        "    if (counting_num%50 == 0):\n",
        "        print(\"Cost at Step \"+str(counting_num)+\": \"+str(cost.real))\n",
        "    counting_num += 1\n",
        "    return cost.real\n",
        "\n",
        "#Creates lits of random numbers as the initial parameters fed into the circuit\n",
        "\n",
        "init1 = [random.randint(100, 200)/100 for i in range(0, qubit)]\n",
        "init2 = [random.randint(-100, 100)/50 for i in range(0, 5*qubit)]\n",
        "init = init2+init1\n",
        "\n",
        "#Creates the optimization process\n",
        "\n",
        "out = minimize(cost_function, x0=init, method=\"COBYLA\", options={'maxiter':1000})\n",
        "g = out['x']\n",
        "print(out)\n",
        "\n",
        "param = g\n",
        "\n",
        "# Prepares the learned state\n",
        "\n",
        "double_phi = [[param[0:3], param[3:6]]]\n",
        "single_phi = [[param[6:9], param[9:12], param[12:15]]]\n",
        "theta = param[15:18]\n",
        "\n",
        "opt_prob_dist = create_dist(theta)\n",
        "\n",
        "p = []\n",
        "for i in range(0, 2):\n",
        "    for j in range(0, 2):\n",
        "        for v in range(0, 2):\n",
        "            p.append(opt_prob_dist[0][i]*opt_prob_dist[1][j]*opt_prob_dist[2][v])\n",
        "\n",
        "state = np.zeros((2**qubit, 2**qubit))\n",
        "\n",
        "for l in range(0, 2**qubit):\n",
        "\n",
        "    circ = QuantumCircuit(qubit, qubit)\n",
        "    create_v_gate(circ, [int(i) for i in list(bin(l)[2:].zfill(qubit))])\n",
        "    add_u_gate(circ, double_phi, single_phi, qubit)\n",
        "\n",
        "    backend = Aer.get_backend('statevector_simulator')\n",
        "    job = execute(circ, backend)\n",
        "    result = job.result()\n",
        "    outputstate = result.get_statevector(circ)\n",
        "\n",
        "    state = np.add(state, p[l]*np.outer(outputstate, np.conj(outputstate)))\n",
        "\n",
        "ham_matrix = SK_Model_Hamiltonian\n",
        "entropy = -1*np.trace(np.matmul(state, scipy.linalg.logm(state)))\n",
        "ev = np.trace(np.matmul(ham_matrix, state))\n",
        "\n",
        "create_density_plot(state.real)\n",
        "\n",
        "print(\"Final Entropy: \"+str(entropy.real))\n",
        "print(\"Final Expectation Value: \"+str(ev.real))\n",
        "print(\"Final Cost: \"+str(beta*ev.real - entropy.real))"
      ]
    }
  ],
  "metadata": {
    "colab": {
      "collapsed_sections": [],
      "name": "Noisy3qubitSK-Model-VQT.ipynb",
      "provenance": []
    },
    "kernelspec": {
      "display_name": "Python 3",
      "name": "python3"
    },
    "language_info": {
      "name": "python"
    }
  },
  "nbformat": 4,
  "nbformat_minor": 0
}